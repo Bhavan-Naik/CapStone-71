{
  "nbformat": 4,
  "nbformat_minor": 0,
  "metadata": {
    "colab": {
      "name": "CapStone_DataViz.ipynb",
      "provenance": []
    },
    "kernelspec": {
      "name": "python3",
      "display_name": "Python 3"
    },
    "language_info": {
      "name": "python"
    }
  },
  "cells": [
    {
      "cell_type": "code",
      "metadata": {
        "colab": {
          "base_uri": "https://localhost:8080/"
        },
        "id": "66iBXlty7VDs",
        "outputId": "9a223938-6aeb-44c8-a3b2-e884fb8794a9"
      },
      "source": [
        "print(\"Data Analysis, Visualization and Model Building for CapStone Project\")"
      ],
      "execution_count": null,
      "outputs": [
        {
          "output_type": "stream",
          "name": "stdout",
          "text": [
            "Data Analysis, Visualization and Model Building for CapStone Project\n"
          ]
        }
      ]
    },
    {
      "cell_type": "code",
      "metadata": {
        "id": "xm7l2ipn_GQU",
        "colab": {
          "base_uri": "https://localhost:8080/"
        },
        "outputId": "1d0e2279-c011-459b-fa51-3f8ba5738745"
      },
      "source": [
        "#Mounting Google Drive to Colab:\n",
        "from google.colab import drive\n",
        "drive.mount('/content/gdrive')"
      ],
      "execution_count": null,
      "outputs": [
        {
          "output_type": "stream",
          "name": "stdout",
          "text": [
            "Drive already mounted at /content/gdrive; to attempt to forcibly remount, call drive.mount(\"/content/gdrive\", force_remount=True).\n"
          ]
        }
      ]
    },
    {
      "cell_type": "code",
      "metadata": {
        "colab": {
          "base_uri": "https://localhost:8080/"
        },
        "id": "LUBj-S_Gq_iy",
        "outputId": "3e4963d6-5742-47c0-dd42-af3f489de996"
      },
      "source": [
        "cd /content/gdrive/MyDrive/CapStone_Project(Team-No:71)/Dataset"
      ],
      "execution_count": null,
      "outputs": [
        {
          "output_type": "stream",
          "name": "stdout",
          "text": [
            "/content/gdrive/MyDrive/CapStone_Project(Team-No:71)/Dataset\n"
          ]
        }
      ]
    },
    {
      "cell_type": "code",
      "metadata": {
        "id": "9xZZO_bZuLSI"
      },
      "source": [
        "import pandas as pd\n",
        "import numpy as np\n",
        "db=pd.read_csv(\"output_table.csv\")"
      ],
      "execution_count": null,
      "outputs": []
    },
    {
      "cell_type": "code",
      "metadata": {
        "colab": {
          "base_uri": "https://localhost:8080/"
        },
        "id": "3ZhM7oCixWYY",
        "outputId": "011717a7-08d7-412e-e77f-1cdf16ac928b"
      },
      "source": [
        "#Basic Analysis\n",
        "names=db[\"Name\"].unique()\n",
        "names.sort()\n",
        "print(\"Students:\\n\",(names))"
      ],
      "execution_count": null,
      "outputs": [
        {
          "output_type": "stream",
          "name": "stdout",
          "text": [
            "Students:\n",
            " ['Akhil' 'Akshaya' 'Atharva' 'Bhavan']\n"
          ]
        }
      ]
    },
    {
      "cell_type": "code",
      "metadata": {
        "colab": {
          "base_uri": "https://localhost:8080/"
        },
        "id": "8_GHv60vx7L5",
        "outputId": "52a324da-f8ee-4894-cdf7-b203376d05ee"
      },
      "source": [
        "classes_attended=[]\n",
        "for i in names:\n",
        "  classes_attended.append(db['Name'].str.count(str(i)).sum())\n",
        "print(classes_attended)"
      ],
      "execution_count": null,
      "outputs": [
        {
          "output_type": "stream",
          "name": "stdout",
          "text": [
            "[10, 16, 9, 14]\n"
          ]
        }
      ]
    },
    {
      "cell_type": "code",
      "metadata": {
        "colab": {
          "base_uri": "https://localhost:8080/"
        },
        "id": "xp0OWUta0CYo",
        "outputId": "2bcbcc7e-aae8-4127-cd72-249622c7dc09"
      },
      "source": [
        "total_classes=db[['Day','Period_No']]\n",
        "total_classes=total_classes.drop_duplicates()\n",
        "print(\"Total Number of Classes: \",len(total_classes))"
      ],
      "execution_count": null,
      "outputs": [
        {
          "output_type": "stream",
          "name": "stdout",
          "text": [
            "Total Number of Classes:  16\n"
          ]
        }
      ]
    },
    {
      "cell_type": "code",
      "metadata": {
        "colab": {
          "base_uri": "https://localhost:8080/"
        },
        "id": "A1ibteQR0liA",
        "outputId": "7c196ce2-8c8d-43b0-ae7d-0bbffa044ab8"
      },
      "source": [
        "percentage_attended=[]\n",
        "for i in range(len(classes_attended)):\n",
        "  percentage_attended.append(classes_attended[i]*100/len(total_classes))\n",
        "print(percentage_attended)"
      ],
      "execution_count": null,
      "outputs": [
        {
          "output_type": "stream",
          "name": "stdout",
          "text": [
            "[62.5, 100.0, 56.25, 87.5]\n"
          ]
        }
      ]
    },
    {
      "cell_type": "code",
      "metadata": {
        "colab": {
          "base_uri": "https://localhost:8080/"
        },
        "id": "sdk0rxZP45Zn",
        "outputId": "8e1d3a53-b97b-4260-a3ec-01008698342f"
      },
      "source": [
        "attendance=dict(zip(names,percentage_attended))\n",
        "attendance=dict(sorted(attendance.items(), key=lambda x: x[1], reverse=True))\n",
        "print(\"Attendance Records for Students:\")\n",
        "print(\"{:<30} {:<30}\".format('STUDENT NAME', 'ATTENDANCE %'))\n",
        "for key, value in attendance.items():\n",
        "  print(\"{:<30} {:<30}\".format(key, value))"
      ],
      "execution_count": null,
      "outputs": [
        {
          "output_type": "stream",
          "name": "stdout",
          "text": [
            "Attendance Records for Students:\n",
            "STUDENT NAME                   ATTENDANCE %                  \n",
            "Akshaya                        100.0                         \n",
            "Bhavan                         87.5                          \n",
            "Akhil                          62.5                          \n",
            "Atharva                        56.25                         \n"
          ]
        }
      ]
    },
    {
      "cell_type": "code",
      "metadata": {
        "colab": {
          "base_uri": "https://localhost:8080/",
          "height": 282
        },
        "id": "giiemFUc1bXH",
        "outputId": "4274f2de-b7da-4951-c354-71294fead89e"
      },
      "source": [
        "cols=['#FFFF00','#FF0000','#00BF00','#004BA0']\n",
        "edge=['#1D418C','#000000','#3A225D','#D1AB3E']\n",
        "import matplotlib.pyplot as plt\n",
        "% matplotlib inline\n",
        "plt.bar(names,percentage_attended,color=cols,edgecolor=edge)"
      ],
      "execution_count": null,
      "outputs": [
        {
          "output_type": "execute_result",
          "data": {
            "text/plain": [
              "<BarContainer object of 4 artists>"
            ]
          },
          "metadata": {},
          "execution_count": 10
        },
        {
          "output_type": "display_data",
          "data": {
            "image/png": "[encoded data removed]",
            "text/plain": [
              "<Figure size 432x288 with 1 Axes>"
            ]
          },
          "metadata": {
            "needs_background": "light"
          }
        }
      ]
    },
    {
      "cell_type": "code",
      "metadata": {
        "colab": {
          "base_uri": "https://localhost:8080/"
        },
        "id": "fp7ytN4_3B8L",
        "outputId": "7818e467-e320-4862-f239-54619e5b4d4c"
      },
      "source": [
        "marks=pd.read_csv(\"marks_table.csv\")\n",
        "final_marks=[]\n",
        "for i in range(len(names)):\n",
        "  final_marks.append(marks.loc[marks['Name']==names[i],'CGPA'].iloc[0])\n",
        "print(final_marks)"
      ],
      "execution_count": null,
      "outputs": [
        {
          "output_type": "stream",
          "name": "stdout",
          "text": [
            "[7.9, 8.63, 7.25, 8.13]\n"
          ]
        }
      ]
    },
    {
      "cell_type": "code",
      "metadata": {
        "colab": {
          "base_uri": "https://localhost:8080/"
        },
        "id": "aUpZV_rRwLmU",
        "outputId": "6245d00c-7f17-48bd-dd34-41114389e8cd"
      },
      "source": [
        "#Exploratory Data Analysis\n",
        "df=marks[['Name','CGPA']]\n",
        "print(\"Shape of Data-Frame: \",df.shape)\n",
        "print(df.info())"
      ],
      "execution_count": null,
      "outputs": [
        {
          "output_type": "stream",
          "name": "stdout",
          "text": [
            "Shape of Data-Frame:  (4, 2)\n",
            "<class 'pandas.core.frame.DataFrame'>\n",
            "RangeIndex: 4 entries, 0 to 3\n",
            "Data columns (total 2 columns):\n",
            " #   Column  Non-Null Count  Dtype  \n",
            "---  ------  --------------  -----  \n",
            " 0   Name    4 non-null      object \n",
            " 1   CGPA    4 non-null      float64\n",
            "dtypes: float64(1), object(1)\n",
            "memory usage: 192.0+ bytes\n",
            "None\n"
          ]
        }
      ]
    },
    {
      "cell_type": "code",
      "metadata": {
        "colab": {
          "base_uri": "https://localhost:8080/"
        },
        "id": "kpIfxoMaw74u",
        "outputId": "4f66723b-396f-49a4-819d-d05af5d9c38d"
      },
      "source": [
        "print(df.describe())"
      ],
      "execution_count": null,
      "outputs": [
        {
          "output_type": "stream",
          "name": "stdout",
          "text": [
            "           CGPA\n",
            "count  4.000000\n",
            "mean   7.977500\n",
            "std    0.572793\n",
            "min    7.250000\n",
            "25%    7.737500\n",
            "50%    8.015000\n",
            "75%    8.255000\n",
            "max    8.630000\n"
          ]
        }
      ]
    },
    {
      "cell_type": "code",
      "metadata": {
        "colab": {
          "base_uri": "https://localhost:8080/",
          "height": 295
        },
        "id": "bAyYXZzzxSQY",
        "outputId": "8236dd13-6286-41be-fd9f-cac9903f3c8b"
      },
      "source": [
        "X = (pd.DataFrame(percentage_attended)).values\n",
        "y = df['CGPA'].values\n",
        "plt.scatter(X, y, color = 'blue', label='Scatter Plot')\n",
        "plt.title('Relationship between Attendance Percentage and CGPA')\n",
        "plt.xlabel('Attendance Percentage')\n",
        "plt.ylabel('CGPA')\n",
        "plt.legend(loc=4)\n",
        "plt.show()"
      ],
      "execution_count": null,
      "outputs": [
        {
          "output_type": "display_data",
          "data": {
            "image/png": "[encoded data removed]",
            "text/plain": [
              "<Figure size 432x288 with 1 Axes>"
            ]
          },
          "metadata": {
            "needs_background": "light"
          }
        }
      ]
    },
    {
      "cell_type": "code",
      "metadata": {
        "colab": {
          "base_uri": "https://localhost:8080/"
        },
        "id": "8eb4KU40yD5I",
        "outputId": "75394324-4298-455c-f062-007d2463f38a"
      },
      "source": [
        "print(X.shape)\n",
        "print(y.shape)"
      ],
      "execution_count": null,
      "outputs": [
        {
          "output_type": "stream",
          "name": "stdout",
          "text": [
            "(4, 1)\n",
            "(4,)\n"
          ]
        }
      ]
    },
    {
      "cell_type": "code",
      "metadata": {
        "colab": {
          "base_uri": "https://localhost:8080/"
        },
        "id": "EqPhVCityJIf",
        "outputId": "44166b45-a8b7-477d-acb4-a7e66657e272"
      },
      "source": [
        "X = X.reshape(-1,1)\n",
        "y = y.reshape(-1,1)\n",
        "print(X.shape)\n",
        "print(y.shape)"
      ],
      "execution_count": null,
      "outputs": [
        {
          "output_type": "stream",
          "name": "stdout",
          "text": [
            "(4, 1)\n",
            "(4, 1)\n"
          ]
        }
      ]
    },
    {
      "cell_type": "code",
      "metadata": {
        "colab": {
          "base_uri": "https://localhost:8080/"
        },
        "id": "l_IVvtFiyQR-",
        "outputId": "9522c00b-dedf-41dd-968b-14389c8d570d"
      },
      "source": [
        "#Model Building\n",
        "from sklearn.model_selection import train_test_split\n",
        "X_train,X_test,y_train,y_test = train_test_split(X, y, test_size=0.2, random_state=42)\n",
        "print(X_train.shape)\n",
        "print(y_train.shape)\n",
        "print(X_test.shape)\n",
        "print(y_test.shape)"
      ],
      "execution_count": null,
      "outputs": [
        {
          "output_type": "stream",
          "name": "stdout",
          "text": [
            "(3, 1)\n",
            "(3, 1)\n",
            "(1, 1)\n",
            "(1, 1)\n"
          ]
        }
      ]
    },
    {
      "cell_type": "code",
      "metadata": {
        "id": "pnzgBwAfyVAw"
      },
      "source": [
        "from sklearn.linear_model import LinearRegression\n",
        "lm = LinearRegression()\n",
        "lm.fit(X, y)  # perform linear regression\n",
        "Y_pred = lm.predict(X)  # make predictions"
      ],
      "execution_count": null,
      "outputs": []
    },
    {
      "cell_type": "code",
      "metadata": {
        "colab": {
          "base_uri": "https://localhost:8080/"
        },
        "id": "ZeVyvh9Ry8VU",
        "outputId": "f3ed3938-6ce3-4c2e-8454-2cd8c1a02fe6"
      },
      "source": [
        "a = lm.coef_\n",
        "b = lm.intercept_,\n",
        "print(\"Estimated model slope, a:\" , a)\n",
        "print(\"Estimated model intercept, b:\" , b)"
      ],
      "execution_count": null,
      "outputs": [
        {
          "output_type": "stream",
          "name": "stdout",
          "text": [
            "Estimated model slope, a: [[0.02566107]]\n",
            "Estimated model intercept, b: (array([6.01282443]),)\n"
          ]
        }
      ]
    },
    {
      "cell_type": "code",
      "metadata": {
        "colab": {
          "base_uri": "https://localhost:8080/"
        },
        "id": "2SLsVToDzGaE",
        "outputId": "62ba57ea-464f-4f0f-81ab-66164aeb4d2f"
      },
      "source": [
        "lm.predict(X)[0:4]"
      ],
      "execution_count": null,
      "outputs": [
        {
          "output_type": "execute_result",
          "data": {
            "text/plain": [
              "array([[7.61664122],\n",
              "       [8.5789313 ],\n",
              "       [7.45625954],\n",
              "       [8.25816794]])"
            ]
          },
          "metadata": {},
          "execution_count": 20
        }
      ]
    },
    {
      "cell_type": "code",
      "metadata": {
        "colab": {
          "base_uri": "https://localhost:8080/"
        },
        "id": "6RHnMKW53za8",
        "outputId": "1e035da4-a842-4929-831e-32db769cd99a"
      },
      "source": [
        "plt.scatter(X, y, label='Scatter Plot')\n",
        "plt.plot(X, Y_pred, color='black', label = 'Regression Line')\n",
        "plt.title('Relationship between Attendance Percentage and CGPA')\n",
        "plt.xlabel('Attendance Percentage')\n",
        "plt.ylabel('CGPA')\n",
        "plt.legend(loc=4)\n",
        "plt.show()"
      ],
      "execution_count": null,
      "outputs": [
        {
          "output_type": "display_data",
          "data": {
            "image/png": "[encoded data removed]",
            "text/plain": [
              "<Figure size 432x288 with 1 Axes>"
            ]
          },
          "metadata": {
            "needs_background": "light"
          }
        }
      ]
    },
    {
      "cell_type": "code",
      "metadata": {
        "colab": {
          "base_uri": "https://localhost:8080/"
        },
        "id": "cwPsh7Wz6fRI",
        "outputId": "bd96a070-22cb-4cb9-cfc5-30ad2d0a44d0"
      },
      "source": [
        "print(\"We can clearly observe that CGPA is directly proportional to Attendance Percentage.\\nHence, higher attendance shows there is a chance of scoring higer CGPA.\")"
      ],
      "execution_count": null,
      "outputs": [
        {
          "output_type": "stream",
          "name": "stdout",
          "text": [
            "We can clearly observe that CGPA is directly proportional to Attendance Percentage.\n",
            "Hence, higher attendance shows there is a chance of scoring higer CGPA.\n"
          ]
        }
      ]
    },
    {
      "cell_type": "code",
      "metadata": {
        "colab": {
          "base_uri": "https://localhost:8080/"
        },
        "id": "BqtBQ2dvzIBU",
        "outputId": "8075a690-44fe-4bb5-d2e3-e5db4731e0cc"
      },
      "source": [
        "from sklearn.metrics import mean_squared_error\n",
        "mse = mean_squared_error(y, Y_pred)\n",
        "rmse = np.sqrt(mse)\n",
        "print(\"RMSE value: {:.4f}\".format(rmse))"
      ],
      "execution_count": null,
      "outputs": [
        {
          "output_type": "stream",
          "name": "stdout",
          "text": [
            "RMSE value: 0.1883\n"
          ]
        }
      ]
    },
    {
      "cell_type": "code",
      "metadata": {
        "colab": {
          "base_uri": "https://localhost:8080/"
        },
        "id": "iIa2-Xpa2PgE",
        "outputId": "70d762e3-6f91-467d-8c82-842fdd622b37"
      },
      "source": [
        "plt.scatter(lm.predict(X), lm.predict(X) - y, color = 'red', label = 'Train data')\n",
        "plt.hlines(xmin = 5, xmax = 10, y = 0, linewidth = 3)\n",
        "plt.title('Residual errors')\n",
        "plt.legend(loc = 4)\n",
        "plt.show()"
      ],
      "execution_count": null,
      "outputs": [
        {
          "output_type": "display_data",
          "data": {
            "image/png": "[encoded data removed]",
            "text/plain": [
              "<Figure size 432x288 with 1 Axes>"
            ]
          },
          "metadata": {
            "needs_background": "light"
          }
        }
      ]
    },
    {
      "cell_type": "code",
      "metadata": {
        "colab": {
          "base_uri": "https://localhost:8080/"
        },
        "id": "K2YUKUUP22-I",
        "outputId": "31aaeece-8603-446a-d0ad-fa5b233a2547"
      },
      "source": [
        "print(\"Accuracy: {:.4f}\".format(lm.score(X,y)))"
      ],
      "execution_count": null,
      "outputs": [
        {
          "output_type": "stream",
          "name": "stdout",
          "text": [
            "Accuracy: 0.8559\n"
          ]
        }
      ]
    }
  ]
}